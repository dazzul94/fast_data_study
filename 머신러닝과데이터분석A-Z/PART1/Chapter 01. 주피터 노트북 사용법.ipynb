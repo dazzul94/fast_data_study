{
 "cells": [
  {
   "cell_type": "code",
   "execution_count": 5,
   "metadata": {
    "scrolled": false
   },
   "outputs": [
    {
     "name": "stdout",
     "output_type": "stream",
     "text": [
      "10\n"
     ]
    }
   ],
   "source": [
    "a = 10\n",
    "print(a)"
   ]
  },
  {
   "cell_type": "markdown",
   "metadata": {},
   "source": [
    "### 안녕 파이썬\n",
    "- shift + enter : 실행하고 다음 셀로 이동\n",
    "- ctrl + enter: 해당 셀만 실행하고 아무것도 안함\n",
    "- y: 코드모드\n",
    "- m: 마크다운 모드\n",
    "- 볼드체는 **이렇게**\n",
    "- 이탤릭체는 *이렇게*\n",
    "\n",
    "> 인용구를 쓸 때\n",
    "\n",
    "$y = 3x$\n",
    "\n",
    "```python\n",
    "a = 10\n",
    "print(a)\n",
    "```\n",
    "\n",
    "[파이썬 공식 페이지](https://www.python.org/downloads/release/python-374/)"
   ]
  },
  {
   "cell_type": "markdown",
   "metadata": {},
   "source": []
  },
  {
   "cell_type": "code",
   "execution_count": null,
   "metadata": {},
   "outputs": [],
   "source": []
  }
 ],
 "metadata": {
  "kernelspec": {
   "display_name": "Python 3",
   "language": "python",
   "name": "python3"
  },
  "language_info": {
   "codemirror_mode": {
    "name": "ipython",
    "version": 3
   },
   "file_extension": ".py",
   "mimetype": "text/x-python",
   "name": "python",
   "nbconvert_exporter": "python",
   "pygments_lexer": "ipython3",
   "version": "3.7.7"
  }
 },
 "nbformat": 4,
 "nbformat_minor": 4
}
